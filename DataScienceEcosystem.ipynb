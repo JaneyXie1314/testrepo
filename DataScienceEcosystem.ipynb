{
 "cells": [
  {
   "cell_type": "markdown",
   "id": "39a49655-8cec-45ad-87ec-4151b329a5e0",
   "metadata": {},
   "source": [
    "# Data Science Tools and Ecosystem "
   ]
  },
  {
   "cell_type": "markdown",
   "id": "ab1a7c17-b3ad-4454-90ce-44414eedf271",
   "metadata": {},
   "source": [
    "In this notebook, Data Science Tools and Ecosystem are summarized."
   ]
  },
  {
   "cell_type": "markdown",
   "id": "0f360315-17d7-482f-b8e0-2a4d10c84942",
   "metadata": {},
   "source": [
    "1. Python\n",
    "2. R\n",
    "3. SQL\n",
    "4. Julia\n",
    "5. Scala"
   ]
  },
  {
   "cell_type": "markdown",
   "id": "73f01010-fef3-4b7a-811a-47d5260698ce",
   "metadata": {},
   "source": [
    "1. NumPy\n",
    "2. Pandas\n",
    "3. Matplotlib\n",
    "4. Scikit-learn\n",
    "5. TensorFlow"
   ]
  },
  {
   "cell_type": "markdown",
   "id": "308bd103-f5b0-4f42-b758-83e7508ee48b",
   "metadata": {},
   "source": [
    "| Data Science Tools |\n",
    "| ------|\n",
    "| Jupyter Notebook         |\n",
    "| RStudio                  |"
   ]
  },
  {
   "cell_type": "markdown",
   "id": "9f9ec996-511a-4246-86a5-f2f8b6eb9b53",
   "metadata": {},
   "source": [
    "### Below are a few examples of evaluating arithmetic expressions in Python"
   ]
  },
  {
   "cell_type": "code",
   "execution_count": 2,
   "id": "4aa708c6-6695-4f40-82ac-771d4acf1a20",
   "metadata": {},
   "outputs": [
    {
     "data": {
      "text/plain": [
       "17"
      ]
     },
     "execution_count": 2,
     "metadata": {},
     "output_type": "execute_result"
    }
   ],
   "source": [
    "# This a simple arithmetic expression to mutiply then add integers\n",
    "(3*4)+5"
   ]
  },
  {
   "cell_type": "code",
   "execution_count": 3,
   "id": "3c5dc151-df05-4805-bf1f-a25fd5458603",
   "metadata": {},
   "outputs": [
    {
     "data": {
      "text/plain": [
       "3.3333333333333335"
      ]
     },
     "execution_count": 3,
     "metadata": {},
     "output_type": "execute_result"
    }
   ],
   "source": [
    "# This will convert 200 minutes to hours by dividing by 60\n",
    "minutes = 200\n",
    "hours = minutes / 60\n",
    "hours"
   ]
  },
  {
   "cell_type": "markdown",
   "id": "694641d7-e7cb-4bf7-9d76-dedfbeaff6a4",
   "metadata": {},
   "source": [
    "**Objectives:**\n",
    "- List popular languages for Data Science.\n",
    "- Identify commonly used libraries in Data Science.\n",
    "- Highlight key tools used in Data Science.\n",
    "- Convert units, such as minutes to hours, using Python code.\n",
    "- Create and format Markdown cells for effective documentation.\n"
   ]
  },
  {
   "cell_type": "markdown",
   "id": "caf22426-0146-405e-ad3e-e24e9792793d",
   "metadata": {},
   "source": [
    "## Author\n",
    "Jinyi Xie"
   ]
  },
  {
   "cell_type": "code",
   "execution_count": null,
   "id": "8e16fb69-d033-4d8f-a59c-b1d4f60e0c6e",
   "metadata": {},
   "outputs": [],
   "source": []
  }
 ],
 "metadata": {
  "kernelspec": {
   "display_name": "Python 3 (ipykernel)",
   "language": "python",
   "name": "python3"
  },
  "language_info": {
   "codemirror_mode": {
    "name": "ipython",
    "version": 3
   },
   "file_extension": ".py",
   "mimetype": "text/x-python",
   "name": "python",
   "nbconvert_exporter": "python",
   "pygments_lexer": "ipython3",
   "version": "3.11.9"
  }
 },
 "nbformat": 4,
 "nbformat_minor": 5
}
